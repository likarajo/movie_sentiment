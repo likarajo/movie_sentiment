{
 "cells": [
  {
   "cell_type": "code",
   "execution_count": 1,
   "metadata": {},
   "outputs": [
    {
     "name": "stderr",
     "output_type": "stream",
     "text": [
      "Using TensorFlow backend.\n"
     ]
    },
    {
     "name": "stdout",
     "output_type": "stream",
     "text": [
      "Data imported\n",
      "\n",
      "Review:\n",
      "I would not compare Nolan’s work to Kubrick’s masterpiece, but I liked the movie. In fact, I liked it so much that I watched it three times: twice in two days, and once more a week after. Interstellar gave me the same feeling I had when I was reading Asimov or Bradbury in my teen years: a powerful romantic sensation of conquering new, unknown frontiers. I love the word “frontiers”—to me, it is always about distant and uncharted places, and this is exactly what Interstellar is about.\n",
      "\n",
      "\n",
      "Data preprocessed\n",
      "\n",
      "Model loaded: model_RNN.sav \n",
      "\n",
      "Making prediction\n",
      "\n",
      "Predicted sentiment: [[0.2556209]]\n"
     ]
    }
   ],
   "source": [
    "# IMPORT LIBRARIES =================================\n",
    "\n",
    "import pandas as pd\n",
    "\n",
    "import re\n",
    "\n",
    "import numpy as np\n",
    "\n",
    "from keras.preprocessing.text import Tokenizer\n",
    "from keras.preprocessing.sequence import pad_sequences\n",
    "\n",
    "import pickle\n",
    "\n",
    "# IMPORT DATA ======================================\n",
    "\n",
    "movie_reviews = pd.read_csv(\"data/review.txt\", delimiter='\\t')\n",
    "print('Data imported\\n') \n",
    "\n",
    "print('Review:')\n",
    "for rev in movie_reviews['review']:\n",
    "    print(rev)\n",
    "print('\\n')\n",
    "\n",
    "# PREPROCESS DATA ==================================\n",
    "\n",
    "tag_re = re.compile(r'<[^>]+>')\n",
    "def remove_tags(text):\n",
    "    return tag_re.sub('', text)\n",
    "\n",
    "def preprocess(sentence):\n",
    "    pp_sentence = remove_tags(sentence)\n",
    "    pp_sentence = re.sub('[^a-zA-Z]', ' ', pp_sentence)\n",
    "    pp_sentence = re.sub(r\"\\s+[a-zA-Z]\\s+\", ' ', pp_sentence)\n",
    "    pp_sentence = re.sub(r'\\s+', ' ', pp_sentence)\n",
    "    return pp_sentence\n",
    "\n",
    "review_sentences = list(movie_reviews['review']) # list the reviews\n",
    "\n",
    "X = []\n",
    "for sentence in review_sentences:\n",
    "    X.append(preprocess(sentence))\n",
    "\n",
    "instance = X[0]\n",
    "print('Data preprocessed\\n')\n",
    "\n",
    "# CONVERT TEST DATA INTO NUMERIC FORM\n",
    "\n",
    "tokenizer = Tokenizer(num_words=5000)\n",
    "\n",
    "instance = tokenizer.texts_to_sequences(instance)\n",
    "\n",
    "flat_list = []\n",
    "for sublist in instance:\n",
    "    for item in sublist:\n",
    "        flat_list.append(item)\n",
    "flat_list = [flat_list]\n",
    "\n",
    "instance = pad_sequences(flat_list, padding='post', maxlen=100)\n",
    "\n",
    "# LOAD MODEL\n",
    "\n",
    "filename = 'model_RNN.sav'\n",
    "model = pickle.load(open(filename, 'rb'))\n",
    "print('Model loaded:', filename,\"\\n\")\n",
    "\n",
    "# MAKE PREDICTION\n",
    "\n",
    "print('Making prediction\\n')\n",
    "prediction = model.predict(instance)\n",
    "\n",
    "print('Predicted sentiment:', prediction)\n",
    "\n",
    "#sentiment = map(lambda p: \"positive\" if p>0.5 else \"negative\", prediction)\n",
    "#print('The sentiment of the review is:', sentiment)"
   ]
  }
 ],
 "metadata": {
  "kernelspec": {
   "display_name": "Python 3",
   "language": "python",
   "name": "python3"
  },
  "language_info": {
   "codemirror_mode": {
    "name": "ipython",
    "version": 3
   },
   "file_extension": ".py",
   "mimetype": "text/x-python",
   "name": "python",
   "nbconvert_exporter": "python",
   "pygments_lexer": "ipython3",
   "version": "3.7.5"
  }
 },
 "nbformat": 4,
 "nbformat_minor": 2
}
